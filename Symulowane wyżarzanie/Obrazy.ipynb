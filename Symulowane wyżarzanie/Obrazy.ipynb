{
 "cells": [
  {
   "cell_type": "markdown",
   "source": [
    "# Maksymilian Wojnar"
   ],
   "metadata": {}
  },
  {
   "cell_type": "markdown",
   "source": [
    "# Generowanie obrazów"
   ],
   "metadata": {}
  },
  {
   "cell_type": "markdown",
   "source": [
    "W implementacji skorzystałem z biblioteki numba, aby przyspieszyć obliczanie obrazów."
   ],
   "metadata": {}
  },
  {
   "cell_type": "code",
   "execution_count": null,
   "source": [
    "import matplotlib.pyplot as plt\n",
    "import numpy as np\n",
    "from numba import jit, njit\n",
    "\n",
    "n = 512"
   ],
   "outputs": [],
   "metadata": {
    "collapsed": false,
    "jupyter": {
     "outputs_hidden": false
    },
    "pycharm": {
     "name": "#%%\n"
    }
   }
  },
  {
   "cell_type": "markdown",
   "source": [
    "Generowanie losowych obrazów z udziałem \"delta\" wszystkich punktów jako czarnych:"
   ],
   "metadata": {}
  },
  {
   "cell_type": "code",
   "execution_count": null,
   "source": [
    "@njit\n",
    "def random_img(delta):\n",
    "    img = np.zeros((n, n), dtype=np.int32)\n",
    "    points = set()\n",
    "\n",
    "    while len(points) < delta * n * n:\n",
    "        points.add((np.random.randint(0, n), np.random.randint(0, n)))\n",
    "\n",
    "    for p in points:\n",
    "        img[p[0], p[1]] = 1\n",
    "\n",
    "    return img"
   ],
   "outputs": [],
   "metadata": {
    "collapsed": false,
    "jupyter": {
     "outputs_hidden": false
    },
    "pycharm": {
     "name": "#%%\n"
    }
   }
  },
  {
   "cell_type": "markdown",
   "source": [
    "Zapis przykładowego sąsiedztwa (G) oraz funkcje kosztu używane w programie:"
   ],
   "metadata": {}
  },
  {
   "cell_type": "code",
   "execution_count": null,
   "source": [
    "dx = np.array([-1, 0, 1, 1, 1, 0, -1, -1])\n",
    "dy = np.array([1, 1, 1, 0, -1, -1, -1, 0])\n",
    "\n",
    "\n",
    "@njit\n",
    "def possible(x, y):\n",
    "    return 0 <= x < n and 0 <= y < n\n",
    "\n",
    "\n",
    "@njit\n",
    "def cost(img, x, y, val):\n",
    "    blacks = 0\n",
    "    \n",
    "    for i in range(len(dx)):\n",
    "        if possible(x + dx[i], y + dy[i]) and img[x + dx[i], y + dy[i]] == 1:\n",
    "            blacks += 1\n",
    "            \n",
    "    return -blacks if val == 1 else blacks\n",
    "\n",
    "\n",
    "@njit\n",
    "def blacks(img, x, y, val):\n",
    "    return cost(img, x, y, val)\n",
    "\n",
    "\n",
    "@njit\n",
    "def whites(img, x, y, val):\n",
    "    return -cost(img, x, y, val)"
   ],
   "outputs": [],
   "metadata": {
    "collapsed": false,
    "jupyter": {
     "outputs_hidden": false
    },
    "pycharm": {
     "name": "#%%\n"
    }
   }
  },
  {
   "cell_type": "markdown",
   "source": [
    "Funkcje wybierające punkty do zamiany. W moim programie, przejście do następnego stanu to zamiana dwóch losowych punktów na obrazie, które różnią się kolorem."
   ],
   "metadata": {}
  },
  {
   "cell_type": "code",
   "execution_count": null,
   "source": [
    "@njit\n",
    "def random_swap():\n",
    "    return np.random.randint(0, n - 1), np.random.randint(0, n - 1)\n",
    "\n",
    "\n",
    "@njit\n",
    "def get_points(img):\n",
    "    while True:\n",
    "        sw = random_swap()\n",
    "        sw2 = random_swap()\n",
    "        \n",
    "        while img[sw[0], sw[1]] == img[sw2[0], sw2[1]]:\n",
    "            sw2 = random_swap()\n",
    "            \n",
    "        return sw, sw2"
   ],
   "outputs": [],
   "metadata": {
    "collapsed": false,
    "jupyter": {
     "outputs_hidden": false
    },
    "pycharm": {
     "name": "#%%\n"
    }
   }
  },
  {
   "cell_type": "markdown",
   "source": [
    "Obliczanie temperatury początkowej analogiczne do zadania 3 (praca Rhyd'a Lewis'a \"Metaheuristics can Solve Sudoku Puzzles\"), jako odchylenie standardowe funkcji kosztu po kilkudziesięciu przejściach po stanach sąsiednich:"
   ],
   "metadata": {}
  },
  {
   "cell_type": "code",
   "execution_count": null,
   "source": [
    "@njit\n",
    "def calculate_temp(img, cost_func):\n",
    "    values = np.zeros(20)\n",
    "\n",
    "    for i in range(1, 20):\n",
    "        swap1, swap2 = get_points(img)\n",
    "        val = img[swap1[0], swap1[1]]\n",
    "        \n",
    "        new_energy = cost_func(img, swap1[0], swap1[1], img[swap2[0], swap2[1]])\n",
    "        new_energy += cost_func(img, swap2[0], swap2[1], val)\n",
    "        \n",
    "        values[i] = values[i - 1] + new_energy\n",
    "\n",
    "    return np.std(values)"
   ],
   "outputs": [],
   "metadata": {
    "collapsed": false,
    "jupyter": {
     "outputs_hidden": false
    },
    "pycharm": {
     "name": "#%%\n"
    }
   }
  },
  {
   "cell_type": "markdown",
   "source": [
    "Główna funkcja homogenicznego symulowanego wyżarzania z pamięcią najlepszego wyniku oraz różnymi funkcjami spadku temperatury:"
   ],
   "metadata": {}
  },
  {
   "cell_type": "code",
   "execution_count": null,
   "source": [
    "@njit\n",
    "def anneal(img, cost_func, temp_type='f'):\n",
    "    t = temp = calculate_temp(img, cost_func)\n",
    "    \n",
    "    best_val = last = 0\n",
    "    best_img = img.copy()\n",
    "\n",
    "    for i in range(500):\n",
    "        for _ in range(150000):\n",
    "            swap1, swap2 = get_points(img)\n",
    "            val = img[swap1[0], swap1[1]]\n",
    "            \n",
    "            new_energy = cost_func(img, swap1[0], swap1[1], img[swap2[0], swap2[1]])\n",
    "            new_energy += cost_func(img, swap2[0], swap2[1], val)\n",
    "            \n",
    "            img[swap1[0], swap1[1]], img[swap2[0], swap2[1]] = img[swap2[0], swap2[1]], img[swap1[0], swap1[1]]\n",
    "\n",
    "            if np.exp(-new_energy / t) > np.random.random():\n",
    "                last += new_energy\n",
    "            else:\n",
    "                img[swap1[0], swap1[1]], img[swap2[0], swap2[1]] = img[swap2[0], swap2[1]], img[swap1[0], swap1[1]]\n",
    "\n",
    "        if last < best_val:\n",
    "            best_val = last\n",
    "            best_img = img.copy()\n",
    "                \n",
    "        if temp_type == 'f':\n",
    "            t *= 0.98\n",
    "        elif temp_type == 's':\n",
    "            t *= 0.999\n",
    "        elif temp_type == 'l':\n",
    "            t = -i * temp / 500 + temp\n",
    "\n",
    "    return best_img"
   ],
   "outputs": [],
   "metadata": {
    "collapsed": false,
    "jupyter": {
     "outputs_hidden": false
    },
    "pycharm": {
     "name": "#%%\n"
    }
   }
  },
  {
   "cell_type": "markdown",
   "source": [
    "Generowanie obrazów:"
   ],
   "metadata": {}
  },
  {
   "cell_type": "code",
   "execution_count": null,
   "source": [
    "for delta, d_name in zip([0.1, 0.3, 0.4], ['1', '3', '4']):\n",
    "    for cost_func, f_name in zip([whites, blacks], ['W', 'B']):\n",
    "        img = anneal(random_img(delta), cost_func)\n",
    "\n",
    "        plt.figure(figsize=(8, 8), dpi=200)\n",
    "        plt.imshow(img, cmap='Greys', interpolation='nearest')\n",
    "        plt.savefig(f\"./images/T/{f_name}{d_name}\")\n",
    "        plt.show()"
   ],
   "outputs": [],
   "metadata": {
    "collapsed": false,
    "jupyter": {
     "outputs_hidden": false
    },
    "pycharm": {
     "name": "#%%\n"
    }
   }
  },
  {
   "cell_type": "markdown",
   "source": [
    "## Wybór funkcji kosztu oraz sąsiedztw"
   ],
   "metadata": {}
  },
  {
   "cell_type": "markdown",
   "source": [
    " - Wybór funkcji kosztu oraz sąsiedztwa miał kluczowy wypływ na efekt uzyskany na obrazie, dlatego w swojej pracy zaproponowałem wiele różnych sąsiedztw i kilka funkcji. Obrazy wygenerowane za pomocą poszczególnych kombinacji znajdują się w folderze \"images\" w podfolderach od \"A\" do \"S\".\n",
    " \n",
    " - W folderach od \"A\" do \"O\" znajdują się obrazy generowane za pomocą różnych sąsiedztw. Każde sąsiedztwo jest opisane przez obrazek \"neighbourhood.png\" znajdujący się w danym katalogu. Na niebiesko jest zaznaczony aktualnie rozpatrywany punkt, a na szaro wybrane sąsiedztwo. Obrazy te generowałem z użyciem dwóch funkcji kosztu, które zamieściłem w kodzie powyżej - \"blacks\" oraz \"whites\" (oznaczyłem je w ten sposób, gdyż \"blacks\" powoduje, że czarne punkty przyciągają się, natomiast \"whites\" sprawia, iż czarne punkty odpychają się). Obrazy wygenerowane z funkcją \"blacks\" mają nazwę rozpoczynającą się na \"B\", w przeciwnym wypadku rozpoczynają się na \"W\". Cyfra 1, 3 lub 4 na końcu nazwy pliku to oznaczenie gęstości czarnych punktów na obrazie (delta = {0.1, 0.3, 0.4}).\n",
    " \n",
    " - W folderach od \"P\" do \"S\" są obrazy, w których funkcja energii każdego punktu nie zależała od sąsiedztwa, lecz od jego współrzędnych na obrazie. W tych katalogach zamieściłem plik \"energy.txt\", w którym opisałem krótko używaną funkcję. Oznaczenia obrazów są analogiczne do tych opisanych wyżej.\n",
    " \n",
    " - Kopie najlepszych (w mojej opinii) obrazów zamieściłem w katalogu \"Wybrane\", aby umożliwić szybkie zobaczenie wyników mojej pracy, bez konieczności przeglądania wszystkich folderów od \"A\" do \"S\". "
   ],
   "metadata": {}
  },
  {
   "cell_type": "markdown",
   "source": [
    "## Wpływ szybkości spadku temperatury "
   ],
   "metadata": {}
  },
  {
   "cell_type": "markdown",
   "source": [
    " - W ramach testów wpływu spadku temperatury na obrazy, wygenerowałem w katalogu \"Spadek temperatury\" przykładowe obrazy w oparciu o sąsiedztwo M. Mają oznaczenia podobne do obrazów w innych katalogach, z dodatkową literą na końcu (\"F\" - szybki spadek wykładniczy ( t *= 0.98 ), \"S\" - wolny spadek wykłaniczy ( t *= 0.999 ), \"L\" - spadek liniowy ( t = -i * temp / 500 + temp ), \"N\" - brak spadku).\n",
    " \n",
    " - Szybki spadek wykładniczy oraz spadek liniowy dawały w ogólności podobne rezultaty. Można jednak zauważyć, że w przypadku generowania z funkcją \"blacks\", spadek liniowy dawał większe obszary połączonych czarnych punktów, natomiast spadek wykładniczy podowował większe rozdrobnienie. Może to mieć związek z szybszym spadkiem wykładniczym na początku, ale wolniejszym na końcu procesu, w stosunku do spadku liniowego.\n",
    " \n",
    " - Wolny spadek wykładniczy i brak spadku temperatury powodowały znaczne zniekształcenie obrazów. Widać to szczególnie na obrazach \"B4N.png\", \"B4S.png\", \"B3N.png\" i \"B3S.png\". Duża temperatura w trakcie całego procesu wyżarzania sprawiła, że na obrazach nie \"wykrystalizowały\" się białe oraz czarne plamy, natomiast jest na nich sporo szumu. Podobnie na \"W3N.png\", \"W3S.png\", \"W4N.png\" oraz \"W4S.png\" - w tym wypadku widać jedynie zarys formowania się pewnej struktury, lecz daleko jeszcze do osiągnięcia ostatecznego stanu, jak przy liniowym lub szybkim spadku wykładniczym."
   ],
   "metadata": {}
  }
 ],
 "metadata": {
  "kernelspec": {
   "display_name": "Python 3",
   "language": "python",
   "name": "python3"
  },
  "language_info": {
   "codemirror_mode": {
    "name": "ipython",
    "version": 3
   },
   "file_extension": ".py",
   "mimetype": "text/x-python",
   "name": "python",
   "nbconvert_exporter": "python",
   "pygments_lexer": "ipython3",
   "version": "3.8.3"
  }
 },
 "nbformat": 4,
 "nbformat_minor": 4
}